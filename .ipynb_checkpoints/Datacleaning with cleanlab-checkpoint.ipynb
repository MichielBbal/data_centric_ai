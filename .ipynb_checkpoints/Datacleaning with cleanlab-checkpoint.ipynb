{
 "cells": [
  {
   "cell_type": "markdown",
   "id": "e22db2d4",
   "metadata": {},
   "source": [
    "# Datacleaning with cleanlab\n",
    "\n",
    "You can use cleanlab to inspect and clean your dataset of image, text, audio, or tabular data.\n",
    "Also you can detect outliers, mislabeld images etc. \n",
    "\n",
    "### Contents\n",
    "0. Install packages\n",
    "1. First example\n",
    "2.\n",
    "\n",
    "### Sources:\n",
    "- https://cleanlab.ai/\n",
    "- Pypi: https://pypi.org/project/cleanlab/\n",
    "- Readthedocs: https://cleanlab-studio.readthedocs.io/en/latest/guide/python_api.html\n",
    "- https://docs.cleanlab.ai/stable/tutorials/image.html"
   ]
  },
  {
   "cell_type": "markdown",
   "id": "700e2b5b",
   "metadata": {},
   "source": [
    "## 0. Install packages"
   ]
  },
  {
   "cell_type": "code",
   "execution_count": 1,
   "id": "9f8f104e",
   "metadata": {},
   "outputs": [
    {
     "name": "stdout",
     "output_type": "stream",
     "text": [
      "Collecting cleanlab\n",
      "  Downloading cleanlab-2.4.0-py3-none-any.whl (225 kB)\n",
      "\u001b[2K     \u001b[90m━━━━━━━━━━━━━━━━━━━━━━━━━━━━━━━━━━━━━━━\u001b[0m \u001b[32m225.1/225.1 kB\u001b[0m \u001b[31m3.2 MB/s\u001b[0m eta \u001b[36m0:00:00\u001b[0ma \u001b[36m0:00:01\u001b[0m\n",
      "\u001b[?25hRequirement already satisfied: termcolor>=2.0.0 in /Users/michielbontenbal/anaconda3/lib/python3.10/site-packages (from cleanlab) (2.2.0)\n",
      "Requirement already satisfied: pandas>=1.1.5 in /Users/michielbontenbal/anaconda3/lib/python3.10/site-packages (from cleanlab) (2.0.1)\n",
      "Requirement already satisfied: tqdm>=4.53.0 in /Users/michielbontenbal/anaconda3/lib/python3.10/site-packages (from cleanlab) (4.65.0)\n",
      "Requirement already satisfied: scikit-learn>=1.0 in /Users/michielbontenbal/anaconda3/lib/python3.10/site-packages (from cleanlab) (1.3.0)\n",
      "Requirement already satisfied: numpy>=1.20.0 in /Users/michielbontenbal/anaconda3/lib/python3.10/site-packages (from cleanlab) (1.23.5)\n",
      "Requirement already satisfied: tzdata>=2022.1 in /Users/michielbontenbal/anaconda3/lib/python3.10/site-packages (from pandas>=1.1.5->cleanlab) (2023.3)\n",
      "Requirement already satisfied: python-dateutil>=2.8.2 in /Users/michielbontenbal/anaconda3/lib/python3.10/site-packages (from pandas>=1.1.5->cleanlab) (2.8.2)\n",
      "Requirement already satisfied: pytz>=2020.1 in /Users/michielbontenbal/anaconda3/lib/python3.10/site-packages (from pandas>=1.1.5->cleanlab) (2022.7)\n",
      "Requirement already satisfied: threadpoolctl>=2.0.0 in /Users/michielbontenbal/anaconda3/lib/python3.10/site-packages (from scikit-learn>=1.0->cleanlab) (3.1.0)\n",
      "Requirement already satisfied: scipy>=1.5.0 in /Users/michielbontenbal/anaconda3/lib/python3.10/site-packages (from scikit-learn>=1.0->cleanlab) (1.10.0)\n",
      "Requirement already satisfied: joblib>=1.1.1 in /Users/michielbontenbal/anaconda3/lib/python3.10/site-packages (from scikit-learn>=1.0->cleanlab) (1.1.1)\n",
      "Requirement already satisfied: six>=1.5 in /Users/michielbontenbal/anaconda3/lib/python3.10/site-packages (from python-dateutil>=2.8.2->pandas>=1.1.5->cleanlab) (1.16.0)\n",
      "Installing collected packages: cleanlab\n",
      "Successfully installed cleanlab-2.4.0\n"
     ]
    }
   ],
   "source": [
    "!pip install cleanlab"
   ]
  },
  {
   "cell_type": "code",
   "execution_count": null,
   "id": "515c8333",
   "metadata": {},
   "outputs": [],
   "source": []
  }
 ],
 "metadata": {
  "kernelspec": {
   "display_name": "Python 3 (ipykernel)",
   "language": "python",
   "name": "python3"
  },
  "language_info": {
   "codemirror_mode": {
    "name": "ipython",
    "version": 3
   },
   "file_extension": ".py",
   "mimetype": "text/x-python",
   "name": "python",
   "nbconvert_exporter": "python",
   "pygments_lexer": "ipython3",
   "version": "3.10.9"
  }
 },
 "nbformat": 4,
 "nbformat_minor": 5
}
