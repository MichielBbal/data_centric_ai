{
 "cells": [
  {
   "cell_type": "markdown",
   "metadata": {
    "id": "ovLutv-kD7xO"
   },
   "source": [
    "[![Open In Colab](https://colab.research.google.com/assets/colab-badge.svg)](https://colab.research.google.com/github/cleanlab/cleanvision-examples/blob/main/cifar10.ipynb)"
   ]
  },
  {
   "cell_type": "markdown",
   "metadata": {
    "id": "1TlXZckZD7xS"
   },
   "source": [
    "This notebook runs CleanVision on [CIFAR10](https://www.cs.toronto.edu/~kriz/cifar.html) dataset."
   ]
  },
  {
   "cell_type": "code",
   "execution_count": 1,
   "metadata": {
    "id": "HGfrwhMXD7xS"
   },
   "outputs": [
    {
     "name": "stdout",
     "output_type": "stream",
     "text": [
      "Requirement already satisfied: pip in /Users/michielbontenbal/anaconda3/lib/python3.10/site-packages (23.3.1)\n",
      "Requirement already satisfied: cleanvision[huggingface] in /Users/michielbontenbal/anaconda3/lib/python3.10/site-packages (0.3.4)\n",
      "Requirement already satisfied: Pillow>=9.3 in /Users/michielbontenbal/anaconda3/lib/python3.10/site-packages (from cleanvision[huggingface]) (10.0.0)\n",
      "Requirement already satisfied: numpy>=1.20.0 in /Users/michielbontenbal/anaconda3/lib/python3.10/site-packages (from cleanvision[huggingface]) (1.23.5)\n",
      "Requirement already satisfied: pandas>=1.1.5 in /Users/michielbontenbal/anaconda3/lib/python3.10/site-packages (from cleanvision[huggingface]) (2.0.1)\n",
      "Requirement already satisfied: tabulate>=0.8.3 in /Users/michielbontenbal/anaconda3/lib/python3.10/site-packages (from cleanvision[huggingface]) (0.8.10)\n",
      "Requirement already satisfied: imagehash>=4.2.0 in /Users/michielbontenbal/anaconda3/lib/python3.10/site-packages (from cleanvision[huggingface]) (4.3.1)\n",
      "Requirement already satisfied: tqdm>=4.53.0 in /Users/michielbontenbal/anaconda3/lib/python3.10/site-packages (from cleanvision[huggingface]) (4.65.0)\n",
      "Requirement already satisfied: matplotlib>=3.4 in /Users/michielbontenbal/anaconda3/lib/python3.10/site-packages (from cleanvision[huggingface]) (3.8.0)\n",
      "Requirement already satisfied: fsspec>=2023.1.0 in /Users/michielbontenbal/anaconda3/lib/python3.10/site-packages (from cleanvision[huggingface]) (2023.6.0)\n",
      "Requirement already satisfied: datasets>=2.7.0 in /Users/michielbontenbal/anaconda3/lib/python3.10/site-packages (from cleanvision[huggingface]) (2.14.5)\n",
      "Requirement already satisfied: pyarrow>=8.0.0 in /Users/michielbontenbal/anaconda3/lib/python3.10/site-packages (from datasets>=2.7.0->cleanvision[huggingface]) (11.0.0)\n",
      "Requirement already satisfied: dill<0.3.8,>=0.3.0 in /Users/michielbontenbal/anaconda3/lib/python3.10/site-packages (from datasets>=2.7.0->cleanvision[huggingface]) (0.3.6)\n",
      "Requirement already satisfied: requests>=2.19.0 in /Users/michielbontenbal/anaconda3/lib/python3.10/site-packages (from datasets>=2.7.0->cleanvision[huggingface]) (2.31.0)\n",
      "Requirement already satisfied: xxhash in /Users/michielbontenbal/anaconda3/lib/python3.10/site-packages (from datasets>=2.7.0->cleanvision[huggingface]) (3.2.0)\n",
      "Requirement already satisfied: multiprocess in /Users/michielbontenbal/anaconda3/lib/python3.10/site-packages (from datasets>=2.7.0->cleanvision[huggingface]) (0.70.14)\n",
      "Requirement already satisfied: aiohttp in /Users/michielbontenbal/anaconda3/lib/python3.10/site-packages (from datasets>=2.7.0->cleanvision[huggingface]) (3.8.4)\n",
      "Requirement already satisfied: huggingface-hub<1.0.0,>=0.14.0 in /Users/michielbontenbal/anaconda3/lib/python3.10/site-packages (from datasets>=2.7.0->cleanvision[huggingface]) (0.18.0)\n",
      "Requirement already satisfied: packaging in /Users/michielbontenbal/anaconda3/lib/python3.10/site-packages (from datasets>=2.7.0->cleanvision[huggingface]) (23.1)\n",
      "Requirement already satisfied: pyyaml>=5.1 in /Users/michielbontenbal/anaconda3/lib/python3.10/site-packages (from datasets>=2.7.0->cleanvision[huggingface]) (6.0)\n",
      "Requirement already satisfied: PyWavelets in /Users/michielbontenbal/anaconda3/lib/python3.10/site-packages (from imagehash>=4.2.0->cleanvision[huggingface]) (1.4.1)\n",
      "Requirement already satisfied: scipy in /Users/michielbontenbal/anaconda3/lib/python3.10/site-packages (from imagehash>=4.2.0->cleanvision[huggingface]) (1.10.0)\n",
      "Requirement already satisfied: contourpy>=1.0.1 in /Users/michielbontenbal/anaconda3/lib/python3.10/site-packages (from matplotlib>=3.4->cleanvision[huggingface]) (1.0.5)\n",
      "Requirement already satisfied: cycler>=0.10 in /Users/michielbontenbal/anaconda3/lib/python3.10/site-packages (from matplotlib>=3.4->cleanvision[huggingface]) (0.10.0)\n",
      "Requirement already satisfied: fonttools>=4.22.0 in /Users/michielbontenbal/anaconda3/lib/python3.10/site-packages (from matplotlib>=3.4->cleanvision[huggingface]) (4.25.0)\n",
      "Requirement already satisfied: kiwisolver>=1.0.1 in /Users/michielbontenbal/anaconda3/lib/python3.10/site-packages (from matplotlib>=3.4->cleanvision[huggingface]) (1.4.4)\n",
      "Requirement already satisfied: pyparsing>=2.3.1 in /Users/michielbontenbal/anaconda3/lib/python3.10/site-packages (from matplotlib>=3.4->cleanvision[huggingface]) (2.4.7)\n",
      "Requirement already satisfied: python-dateutil>=2.7 in /Users/michielbontenbal/anaconda3/lib/python3.10/site-packages (from matplotlib>=3.4->cleanvision[huggingface]) (2.8.2)\n",
      "Requirement already satisfied: pytz>=2020.1 in /Users/michielbontenbal/anaconda3/lib/python3.10/site-packages (from pandas>=1.1.5->cleanvision[huggingface]) (2022.7)\n",
      "Requirement already satisfied: tzdata>=2022.1 in /Users/michielbontenbal/anaconda3/lib/python3.10/site-packages (from pandas>=1.1.5->cleanvision[huggingface]) (2023.3)\n",
      "Requirement already satisfied: six in /Users/michielbontenbal/anaconda3/lib/python3.10/site-packages (from cycler>=0.10->matplotlib>=3.4->cleanvision[huggingface]) (1.16.0)\n",
      "Requirement already satisfied: attrs>=17.3.0 in /Users/michielbontenbal/anaconda3/lib/python3.10/site-packages (from aiohttp->datasets>=2.7.0->cleanvision[huggingface]) (22.1.0)\n",
      "Requirement already satisfied: charset-normalizer<4.0,>=2.0 in /Users/michielbontenbal/anaconda3/lib/python3.10/site-packages (from aiohttp->datasets>=2.7.0->cleanvision[huggingface]) (2.0.4)\n",
      "Requirement already satisfied: multidict<7.0,>=4.5 in /Users/michielbontenbal/anaconda3/lib/python3.10/site-packages (from aiohttp->datasets>=2.7.0->cleanvision[huggingface]) (6.0.4)\n",
      "Requirement already satisfied: async-timeout<5.0,>=4.0.0a3 in /Users/michielbontenbal/anaconda3/lib/python3.10/site-packages (from aiohttp->datasets>=2.7.0->cleanvision[huggingface]) (4.0.2)\n",
      "Requirement already satisfied: yarl<2.0,>=1.0 in /Users/michielbontenbal/anaconda3/lib/python3.10/site-packages (from aiohttp->datasets>=2.7.0->cleanvision[huggingface]) (1.8.2)\n",
      "Requirement already satisfied: frozenlist>=1.1.1 in /Users/michielbontenbal/anaconda3/lib/python3.10/site-packages (from aiohttp->datasets>=2.7.0->cleanvision[huggingface]) (1.3.3)\n",
      "Requirement already satisfied: aiosignal>=1.1.2 in /Users/michielbontenbal/anaconda3/lib/python3.10/site-packages (from aiohttp->datasets>=2.7.0->cleanvision[huggingface]) (1.3.1)\n",
      "Requirement already satisfied: filelock in /Users/michielbontenbal/anaconda3/lib/python3.10/site-packages (from huggingface-hub<1.0.0,>=0.14.0->datasets>=2.7.0->cleanvision[huggingface]) (3.9.0)\n",
      "Requirement already satisfied: typing-extensions>=3.7.4.3 in /Users/michielbontenbal/anaconda3/lib/python3.10/site-packages (from huggingface-hub<1.0.0,>=0.14.0->datasets>=2.7.0->cleanvision[huggingface]) (4.4.0)\n",
      "Requirement already satisfied: idna<4,>=2.5 in /Users/michielbontenbal/anaconda3/lib/python3.10/site-packages (from requests>=2.19.0->datasets>=2.7.0->cleanvision[huggingface]) (2.10)\n",
      "Requirement already satisfied: urllib3<3,>=1.21.1 in /Users/michielbontenbal/anaconda3/lib/python3.10/site-packages (from requests>=2.19.0->datasets>=2.7.0->cleanvision[huggingface]) (1.26.14)\n",
      "Requirement already satisfied: certifi>=2017.4.17 in /Users/michielbontenbal/anaconda3/lib/python3.10/site-packages (from requests>=2.19.0->datasets>=2.7.0->cleanvision[huggingface]) (2022.12.7)\n"
     ]
    }
   ],
   "source": [
    "!pip install -U pip\n",
    "!pip install \"cleanvision[huggingface]\""
   ]
  },
  {
   "cell_type": "markdown",
   "metadata": {
    "id": "9FgXN1WRD7xT"
   },
   "source": [
    "**After you install these packages, you may need to restart your notebook runtime before running the rest of this notebook.**"
   ]
  },
  {
   "cell_type": "code",
   "execution_count": 2,
   "metadata": {
    "id": "9BPDYCblD7xU",
    "tags": []
   },
   "outputs": [],
   "source": [
    "import pandas as pd\n",
    "from datasets import load_dataset, concatenate_datasets\n",
    "\n",
    "\n",
    "from cleanvision import Imagelab"
   ]
  },
  {
   "cell_type": "markdown",
   "metadata": {
    "id": "nQocgOY-D7xU",
    "tags": []
   },
   "source": [
    "### Download dataset from Huggingface and save as png files"
   ]
  },
  {
   "cell_type": "code",
   "execution_count": 3,
   "metadata": {
    "id": "S4jP5OtTD7xU",
    "tags": []
   },
   "outputs": [
    {
     "data": {
      "application/vnd.jupyter.widget-view+json": {
       "model_id": "78d5beb6d9904c99927574e4dd245b1a",
       "version_major": 2,
       "version_minor": 0
      },
      "text/plain": [
       "Downloading builder script:   0%|          | 0.00/3.61k [00:00<?, ?B/s]"
      ]
     },
     "metadata": {},
     "output_type": "display_data"
    },
    {
     "data": {
      "application/vnd.jupyter.widget-view+json": {
       "model_id": "61f2430975a14989b81caa2a891bef23",
       "version_major": 2,
       "version_minor": 0
      },
      "text/plain": [
       "Downloading metadata:   0%|          | 0.00/1.66k [00:00<?, ?B/s]"
      ]
     },
     "metadata": {},
     "output_type": "display_data"
    },
    {
     "data": {
      "application/vnd.jupyter.widget-view+json": {
       "model_id": "b8bb1c505b23477fad7cc3ac679d5d5a",
       "version_major": 2,
       "version_minor": 0
      },
      "text/plain": [
       "Downloading readme:   0%|          | 0.00/5.00k [00:00<?, ?B/s]"
      ]
     },
     "metadata": {},
     "output_type": "display_data"
    },
    {
     "data": {
      "application/vnd.jupyter.widget-view+json": {
       "model_id": "e6a8d85e026547f6829e6b302b2b1fde",
       "version_major": 2,
       "version_minor": 0
      },
      "text/plain": [
       "Downloading data:   0%|          | 0.00/170M [00:00<?, ?B/s]"
      ]
     },
     "metadata": {},
     "output_type": "display_data"
    },
    {
     "data": {
      "application/vnd.jupyter.widget-view+json": {
       "model_id": "8196fb2bb71644279da192f1ec2bfa3e",
       "version_major": 2,
       "version_minor": 0
      },
      "text/plain": [
       "Generating train split:   0%|          | 0/50000 [00:00<?, ? examples/s]"
      ]
     },
     "metadata": {},
     "output_type": "display_data"
    },
    {
     "name": "stderr",
     "output_type": "stream",
     "text": [
      "/Users/michielbontenbal/anaconda3/lib/python3.10/site-packages/datasets/features/image.py:332: UserWarning: Downcasting array dtype uint8 to uint8 to be compatible with 'Pillow'\n",
      "  warnings.warn(f\"Downcasting array dtype {dtype} to {dest_dtype} to be compatible with 'Pillow'\")\n"
     ]
    },
    {
     "data": {
      "application/vnd.jupyter.widget-view+json": {
       "model_id": "64e4ef0fcf8247d69519886409d45afc",
       "version_major": 2,
       "version_minor": 0
      },
      "text/plain": [
       "Generating test split:   0%|          | 0/10000 [00:00<?, ? examples/s]"
      ]
     },
     "metadata": {},
     "output_type": "display_data"
    }
   ],
   "source": [
    "dataset_dict = load_dataset(\"cifar10\")\n",
    "dataset = concatenate_datasets([dataset_dict[split] for split in dataset_dict.keys()])"
   ]
  },
  {
   "cell_type": "code",
   "execution_count": 4,
   "metadata": {
    "id": "wsIFR1jKD7xV",
    "outputId": "ae9f28bc-4976-429c-fab6-817212595cb5",
    "tags": []
   },
   "outputs": [
    {
     "data": {
      "text/plain": [
       "Dataset({\n",
       "    features: ['img', 'label'],\n",
       "    num_rows: 60000\n",
       "})"
      ]
     },
     "execution_count": 4,
     "metadata": {},
     "output_type": "execute_result"
    }
   ],
   "source": [
    "dataset"
   ]
  },
  {
   "cell_type": "markdown",
   "metadata": {
    "id": "1wHnmkCoD7xW",
    "tags": []
   },
   "source": [
    "### Run CleanVision"
   ]
  },
  {
   "cell_type": "code",
   "execution_count": 5,
   "metadata": {
    "id": "nZcfQfhrD7xW",
    "tags": []
   },
   "outputs": [],
   "source": [
    "imagelab = Imagelab(hf_dataset=dataset, image_key=\"img\")"
   ]
  },
  {
   "cell_type": "code",
   "execution_count": null,
   "metadata": {
    "id": "6e65rVe7D7xX",
    "outputId": "e6370095-a526-4bec-d57a-acace8bde6db",
    "tags": []
   },
   "outputs": [
    {
     "name": "stdout",
     "output_type": "stream",
     "text": [
      "Checking for dark, light, odd_aspect_ratio, low_information, exact_duplicates, near_duplicates, blurry, grayscale, odd_size images ...\n"
     ]
    },
    {
     "data": {
      "application/vnd.jupyter.widget-view+json": {
       "model_id": "30303af6766e40fdbe6d85e91cfdc77d",
       "version_major": 2,
       "version_minor": 0
      },
      "text/plain": [
       "  0%|          | 0/60000 [00:00<?, ?it/s]"
      ]
     },
     "metadata": {},
     "output_type": "display_data"
    },
    {
     "data": {
      "application/vnd.jupyter.widget-view+json": {
       "model_id": "b58a94f433804d04b726fb397c68f977",
       "version_major": 2,
       "version_minor": 0
      },
      "text/plain": [
       "  0%|          | 0/60000 [00:00<?, ?it/s]"
      ]
     },
     "metadata": {},
     "output_type": "display_data"
    }
   ],
   "source": [
    "imagelab.find_issues()"
   ]
  },
  {
   "cell_type": "markdown",
   "metadata": {
    "id": "Htbatcm_D7xX"
   },
   "source": [
    "### Report all the issues found in the dataset"
   ]
  },
  {
   "cell_type": "code",
   "execution_count": null,
   "metadata": {
    "id": "zrYkSaQ-D7xX",
    "outputId": "3a618ee5-9cac-4025-a38a-5a4741207d9a",
    "tags": []
   },
   "outputs": [],
   "source": [
    "imagelab.report()"
   ]
  },
  {
   "cell_type": "markdown",
   "metadata": {
    "id": "clniLjYfD7xX"
   },
   "source": [
    "View more information about each image, such as what types of issues it exhibits and its quality score with respect to each type of issue."
   ]
  },
  {
   "cell_type": "code",
   "execution_count": null,
   "metadata": {
    "id": "IHP4VQXhD7xX",
    "outputId": "289c0419-3936-4ad6-e2c6-6cbdb224f01a",
    "tags": []
   },
   "outputs": [],
   "source": [
    "imagelab.issues"
   ]
  },
  {
   "cell_type": "markdown",
   "metadata": {
    "id": "q-EalRusD7xY"
   },
   "source": [
    "View global information about each issue, such as how many images in the dataset suffer from this issue."
   ]
  },
  {
   "cell_type": "code",
   "execution_count": null,
   "metadata": {
    "id": "iPQlpZVCD7xY",
    "outputId": "47688cfa-cff3-41ee-b1c5-d23010d635ad",
    "tags": []
   },
   "outputs": [],
   "source": [
    "imagelab.issue_summary"
   ]
  },
  {
   "cell_type": "markdown",
   "metadata": {
    "id": "Fa8iBdMAD7xY"
   },
   "source": [
    "View number of sets of near duplicate images"
   ]
  },
  {
   "cell_type": "code",
   "execution_count": null,
   "metadata": {
    "id": "P0jmFOeDD7xY",
    "outputId": "0e582e80-72fd-48ac-9bec-a768eacd928b",
    "tags": []
   },
   "outputs": [],
   "source": [
    "imagelab.info[\"near_duplicates\"][\"num_sets\"]"
   ]
  },
  {
   "cell_type": "markdown",
   "metadata": {
    "id": "Ke0HEExHD7xZ"
   },
   "source": [
    "Visualize 20 sets of near duplicate images"
   ]
  },
  {
   "cell_type": "code",
   "execution_count": null,
   "metadata": {
    "id": "MLhxlTbED7xZ",
    "outputId": "b2aeae59-185c-45e0-d7a5-4f6c59cc8850",
    "tags": []
   },
   "outputs": [],
   "source": [
    "imagelab.visualize(issue_types=[\"near_duplicates\"], num_images=20)"
   ]
  }
 ],
 "metadata": {
  "colab": {
   "provenance": []
  },
  "kernelspec": {
   "display_name": "Python 3 (ipykernel)",
   "language": "python",
   "name": "python3"
  },
  "language_info": {
   "codemirror_mode": {
    "name": "ipython",
    "version": 3
   },
   "file_extension": ".py",
   "mimetype": "text/x-python",
   "name": "python",
   "nbconvert_exporter": "python",
   "pygments_lexer": "ipython3",
   "version": "3.10.9"
  }
 },
 "nbformat": 4,
 "nbformat_minor": 1
}
