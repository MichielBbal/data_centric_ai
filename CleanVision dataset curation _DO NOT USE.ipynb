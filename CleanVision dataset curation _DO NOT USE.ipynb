{
 "cells": [
  {
   "cell_type": "code",
   "execution_count": 1,
   "id": "ccab7c77",
   "metadata": {},
   "outputs": [
    {
     "name": "stdout",
     "output_type": "stream",
     "text": [
      "Requirement already satisfied: cleanvision in /Users/michielbontenbal/anaconda3/lib/python3.10/site-packages (0.3.4)\n",
      "Requirement already satisfied: Pillow>=9.3 in /Users/michielbontenbal/anaconda3/lib/python3.10/site-packages (from cleanvision) (10.0.0)\n",
      "Requirement already satisfied: numpy>=1.20.0 in /Users/michielbontenbal/anaconda3/lib/python3.10/site-packages (from cleanvision) (1.23.5)\n",
      "Requirement already satisfied: pandas>=1.1.5 in /Users/michielbontenbal/anaconda3/lib/python3.10/site-packages (from cleanvision) (2.0.1)\n",
      "Requirement already satisfied: tabulate>=0.8.3 in /Users/michielbontenbal/anaconda3/lib/python3.10/site-packages (from cleanvision) (0.8.10)\n",
      "Requirement already satisfied: imagehash>=4.2.0 in /Users/michielbontenbal/anaconda3/lib/python3.10/site-packages (from cleanvision) (4.3.1)\n",
      "Requirement already satisfied: tqdm>=4.53.0 in /Users/michielbontenbal/anaconda3/lib/python3.10/site-packages (from cleanvision) (4.65.0)\n",
      "Requirement already satisfied: matplotlib>=3.4 in /Users/michielbontenbal/anaconda3/lib/python3.10/site-packages (from cleanvision) (3.8.0)\n",
      "Requirement already satisfied: fsspec>=2023.1.0 in /Users/michielbontenbal/anaconda3/lib/python3.10/site-packages (from cleanvision) (2023.6.0)\n",
      "Requirement already satisfied: PyWavelets in /Users/michielbontenbal/anaconda3/lib/python3.10/site-packages (from imagehash>=4.2.0->cleanvision) (1.4.1)\n",
      "Requirement already satisfied: scipy in /Users/michielbontenbal/anaconda3/lib/python3.10/site-packages (from imagehash>=4.2.0->cleanvision) (1.10.0)\n",
      "Requirement already satisfied: contourpy>=1.0.1 in /Users/michielbontenbal/anaconda3/lib/python3.10/site-packages (from matplotlib>=3.4->cleanvision) (1.0.5)\n",
      "Requirement already satisfied: cycler>=0.10 in /Users/michielbontenbal/anaconda3/lib/python3.10/site-packages (from matplotlib>=3.4->cleanvision) (0.10.0)\n",
      "Requirement already satisfied: fonttools>=4.22.0 in /Users/michielbontenbal/anaconda3/lib/python3.10/site-packages (from matplotlib>=3.4->cleanvision) (4.25.0)\n",
      "Requirement already satisfied: kiwisolver>=1.0.1 in /Users/michielbontenbal/anaconda3/lib/python3.10/site-packages (from matplotlib>=3.4->cleanvision) (1.4.4)\n",
      "Requirement already satisfied: packaging>=20.0 in /Users/michielbontenbal/anaconda3/lib/python3.10/site-packages (from matplotlib>=3.4->cleanvision) (23.1)\n",
      "Requirement already satisfied: pyparsing>=2.3.1 in /Users/michielbontenbal/anaconda3/lib/python3.10/site-packages (from matplotlib>=3.4->cleanvision) (2.4.7)\n",
      "Requirement already satisfied: python-dateutil>=2.7 in /Users/michielbontenbal/anaconda3/lib/python3.10/site-packages (from matplotlib>=3.4->cleanvision) (2.8.2)\n",
      "Requirement already satisfied: pytz>=2020.1 in /Users/michielbontenbal/anaconda3/lib/python3.10/site-packages (from pandas>=1.1.5->cleanvision) (2022.7)\n",
      "Requirement already satisfied: tzdata>=2022.1 in /Users/michielbontenbal/anaconda3/lib/python3.10/site-packages (from pandas>=1.1.5->cleanvision) (2023.3)\n",
      "Requirement already satisfied: six in /Users/michielbontenbal/anaconda3/lib/python3.10/site-packages (from cycler>=0.10->matplotlib>=3.4->cleanvision) (1.16.0)\n",
      "Note: you may need to restart the kernel to use updated packages.\n"
     ]
    }
   ],
   "source": [
    "pip install cleanvision"
   ]
  },
  {
   "cell_type": "code",
   "execution_count": 2,
   "id": "35be5fbf",
   "metadata": {},
   "outputs": [
    {
     "name": "stdout",
     "output_type": "stream",
     "text": [
      "Requirement already satisfied: wget in /Users/michielbontenbal/anaconda3/lib/python3.10/site-packages (3.2)\n",
      "Note: you may need to restart the kernel to use updated packages.\n"
     ]
    }
   ],
   "source": [
    "pip install wget"
   ]
  },
  {
   "cell_type": "code",
   "execution_count": 3,
   "id": "dcfd7ded",
   "metadata": {},
   "outputs": [
    {
     "name": "stdout",
     "output_type": "stream",
     "text": [
      "100% [....................................................] 82341589 / 82341589\n",
      "Saved under image_files.zip\n"
     ]
    }
   ],
   "source": [
    "!python -m wget 'https://cleanlab-public.s3.amazonaws.com/CleanVision/image_files.zip'"
   ]
  },
  {
   "cell_type": "code",
   "execution_count": 4,
   "id": "8f8808f2",
   "metadata": {},
   "outputs": [
    {
     "name": "stdout",
     "output_type": "stream",
     "text": [
      "CleanVision dataset curation.ipynb  \u001b[34mimage_files\u001b[m\u001b[m/\r\n",
      "Cleanvision with cifar10.ipynb      image_files.zip\r\n",
      "\u001b[34mMNIST-42000-images-1\u001b[m\u001b[m/               tutorial_cleanlab_2_0.ipynb\r\n"
     ]
    }
   ],
   "source": [
    "ls"
   ]
  },
  {
   "cell_type": "code",
   "execution_count": null,
   "id": "400d25a9",
   "metadata": {},
   "outputs": [
    {
     "name": "stdout",
     "output_type": "stream",
     "text": [
      "Archive:  image_files.zip\r\n",
      "replace image_files/image_408.png? [y]es, [n]o, [A]ll, [N]one, [r]ename: "
     ]
    }
   ],
   "source": [
    "!unzip image_files.zip"
   ]
  },
  {
   "cell_type": "code",
   "execution_count": null,
   "id": "1e593bf9",
   "metadata": {},
   "outputs": [],
   "source": [
    "ls"
   ]
  },
  {
   "cell_type": "code",
   "execution_count": null,
   "id": "782a8c5f",
   "metadata": {},
   "outputs": [],
   "source": [
    "from cleanvision import Imagelab\n",
    "\n",
    "# Specify path to folder containing the image files in your dataset\n",
    "imagelab = Imagelab(data_path=\"image_files/\")\n",
    "\n",
    "# Automatically check for a predefined list of issues within your dataset\n",
    "imagelab.find_issues()\n",
    "\n",
    "# Produce a neat report of the issues found in your dataset\n",
    "imagelab.report()"
   ]
  },
  {
   "cell_type": "code",
   "execution_count": null,
   "id": "2dce8af6",
   "metadata": {},
   "outputs": [],
   "source": []
  }
 ],
 "metadata": {
  "kernelspec": {
   "display_name": "Python 3 (ipykernel)",
   "language": "python",
   "name": "python3"
  },
  "language_info": {
   "codemirror_mode": {
    "name": "ipython",
    "version": 3
   },
   "file_extension": ".py",
   "mimetype": "text/x-python",
   "name": "python",
   "nbconvert_exporter": "python",
   "pygments_lexer": "ipython3",
   "version": "3.10.9"
  }
 },
 "nbformat": 4,
 "nbformat_minor": 5
}
