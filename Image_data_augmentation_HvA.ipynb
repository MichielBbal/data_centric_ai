{
 "cells": [
  {
   "cell_type": "markdown",
   "metadata": {
    "id": "32-zMt7tZr3R"
   },
   "source": [
    "# Image Data Augmentation with Numpy\n",
    "\n",
    "Take a set of images and do data augmentation to create a bigger, more diverse batch of images used for training ML models.\n",
    "\n",
    "To do: Run notebook and do the 3 exercises\n"
   ]
  },
  {
   "cell_type": "markdown",
   "metadata": {},
   "source": [
    "## Download 'elephant drawings' "
   ]
  },
  {
   "cell_type": "code",
   "execution_count": 1,
   "metadata": {},
   "outputs": [
    {
     "data": {
      "text/plain": [
       "27"
      ]
     },
     "execution_count": 1,
     "metadata": {},
     "output_type": "execute_result"
    }
   ],
   "source": [
    "#create a list of the images\n",
    "from glob import glob\n",
    "jpgs = glob('*.jpg')\n",
    "jpgs"
   ]
  },
  {
   "cell_type": "code",
   "execution_count": 2,
   "metadata": {
    "id": "siLr8t4-qR9K"
   },
   "outputs": [
    {
     "name": "stdout",
     "output_type": "stream",
     "text": [
      "done\n"
     ]
    }
   ],
   "source": [
    "### Create output directory\n",
    "import os\n",
    "try:\n",
    "  os.makedirs('augmented')\n",
    "  print('done')\n",
    "except FileExistsError:\n",
    "  print(\"WARNING: Output directory already exists. Check to make sure it is empty.\")"
   ]
  },
  {
   "cell_type": "markdown",
   "metadata": {
    "id": "KAZYWLFeB9vR"
   },
   "source": [
    "## Flip and rotate\n",
    "\n",
    "Flip the original images:\n",
    "- flip left right\n",
    "- flip up down\n",
    "- flip up down-left right\n",
    "\n",
    "Rotate all flipped images:\n",
    "- rotate 45 degrees\n",
    "- rotate 90 degrees\n",
    "- rotate 135 degrees\n",
    "\n",
    "If you start with 10 original images, after flipping you will have 40, after rotating you will have 160 (40 not rotated+120 rotated images)."
   ]
  },
  {
   "cell_type": "code",
   "execution_count": 3,
   "metadata": {
    "id": "YAIqA5xdtt_6",
    "scrolled": true
   },
   "outputs": [
    {
     "name": "stdout",
     "output_type": "stream",
     "text": [
      "done\n"
     ]
    }
   ],
   "source": [
    "# create all flipped images\n",
    "from PIL import Image\n",
    "import numpy as np\n",
    "import glob, os\n",
    "\n",
    "for infile in glob.glob('*.jpg'):\n",
    "    file, ext = os.path.splitext(infile)\n",
    "    with Image.open(infile) as im:\n",
    "        img_ar = np.asarray(im)\n",
    "        flipped_lr = np.fliplr(img_ar)\n",
    "        flipped_ud = np.flipud(img_ar)\n",
    "        flipped_lr_ud= np.flipud(np.fliplr(img_ar))\n",
    "        flip_im_lr= Image.fromarray(flipped_lr)\n",
    "        flip_im_ud= Image.fromarray(flipped_ud)\n",
    "        flip_im_lr_ud = Image.fromarray(flipped_lr_ud)\n",
    "        flip_im_lr.save(file+'_flipped_lr'+'.jpg')\n",
    "        flip_im_ud.save(file+'_flipped_ud'+'.jpg')\n",
    "        flip_im_lr_ud.save(file+'flipped_lr_ud'+'.jpg')\n",
    "print('done')"
   ]
  },
  {
   "cell_type": "markdown",
   "metadata": {},
   "source": [
    "### Exercise 1: Inspect the result\n",
    "\n",
    "How many images have been created? \n",
    "Create a script that counts the images, for example with glob."
   ]
  },
  {
   "cell_type": "code",
   "execution_count": null,
   "metadata": {},
   "outputs": [],
   "source": [
    "# YOUR CODE HERE"
   ]
  },
  {
   "cell_type": "markdown",
   "metadata": {},
   "source": [
    "### Now rotate the images"
   ]
  },
  {
   "cell_type": "code",
   "execution_count": 25,
   "metadata": {},
   "outputs": [
    {
     "name": "stdout",
     "output_type": "stream",
     "text": [
      "done\n"
     ]
    }
   ],
   "source": [
    "from PIL import Image\n",
    "import numpy as np\n",
    "import skimage.transform\n",
    "import skimage.util\n",
    "\n",
    "for infile in glob.glob('*.png'):\n",
    "    file, ext = os.path.splitext(infile)\n",
    "    with Image.open(infile) as im:\n",
    "        img_ar = np.asarray(im)\n",
    "        img_rot_45 = skimage.transform.rotate(img_ar, angle=45, mode='edge', preserve_range=True)\n",
    "        img_rot_90 = skimage.transform.rotate(img_ar, angle=90, mode='edge', preserve_range=True)\n",
    "        img_rot_135 = skimage.transform.rotate(img_ar, angle=135, mode='edge', preserve_range=True)\n",
    "        img_rot_45 = img_rot_45.astype(np.uint8)\n",
    "        img_rot_90 = img_rot_90.astype(np.uint8)\n",
    "        img_rot_135 = img_rot_135.astype(np.uint8)\n",
    "        img_rotated_45 =Image.fromarray(img_rot_45)\n",
    "        img_rotated_90 =Image.fromarray(img_rot_90)\n",
    "        img_rotated_135 =Image.fromarray(img_rot_135)\n",
    "        img_rotated_45.save(file+'_rot_45'+'.png')\n",
    "        img_rotated_90.save(file+'_rot_90'+'.png')\n",
    "        #img_rotated_135.save(file+'_rot_135'+'.png')\n",
    "print('done')"
   ]
  },
  {
   "cell_type": "markdown",
   "metadata": {},
   "source": [
    "###  Exercise 2: Check number of images\n",
    "Same as exercise 1"
   ]
  },
  {
   "cell_type": "code",
   "execution_count": 4,
   "metadata": {},
   "outputs": [],
   "source": [
    "# YOUR CODE HERE"
   ]
  },
  {
   "cell_type": "markdown",
   "metadata": {},
   "source": [
    "### Exercise 3: Use IPyplot to display many images at once\n",
    "\n",
    "Check the code yourself: https://github.com/karolzak/ipyplot"
   ]
  },
  {
   "cell_type": "code",
   "execution_count": null,
   "metadata": {},
   "outputs": [],
   "source": [
    "# YOUR CODE HERE"
   ]
  },
  {
   "cell_type": "markdown",
   "metadata": {},
   "source": [
    "### Bonus: do the same with Keras\n",
    "See documentation: https://keras.io/api/layers/preprocessing_layers/image_augmentation/"
   ]
  },
  {
   "cell_type": "code",
   "execution_count": null,
   "metadata": {},
   "outputs": [],
   "source": [
    "#YOUR CODE HERE"
   ]
  }
 ],
 "metadata": {
  "colab": {
   "collapsed_sections": [],
   "name": "solution_image_data_augmentation.ipynb",
   "provenance": []
  },
  "kernelspec": {
   "display_name": "Python 3 (ipykernel)",
   "language": "python",
   "name": "python3"
  },
  "language_info": {
   "codemirror_mode": {
    "name": "ipython",
    "version": 3
   },
   "file_extension": ".py",
   "mimetype": "text/x-python",
   "name": "python",
   "nbconvert_exporter": "python",
   "pygments_lexer": "ipython3",
   "version": "3.10.9"
  }
 },
 "nbformat": 4,
 "nbformat_minor": 1
}
